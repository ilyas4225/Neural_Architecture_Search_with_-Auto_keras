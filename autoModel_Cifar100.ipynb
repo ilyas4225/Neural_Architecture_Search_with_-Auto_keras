{
 "cells": [
  {
   "cell_type": "markdown",
   "id": "d9418edd",
   "metadata": {},
   "source": [
    "# AutoModel for Cifar100\n",
    "\n",
    "The autokeras library to automatically search for the best neural network architecture for classifying the CIFAR-100 dataset. It first loads the dataset, converts the labels to categorical format, and defines an AutoModel using the autokeras.The AutoModel is initialized with the defined input and output nodes, and fit to the training data using 10 epochs and a maximum of 1 trials. "
   ]
  },
  {
   "cell_type": "markdown",
   "id": "1667da97",
   "metadata": {},
   "source": [
    "Imports necessary libraries including autokeras, torch, matplotlib, numpy, and tensorflow.keras. "
   ]
  },
  {
   "cell_type": "code",
   "execution_count": 1,
   "id": "aaf1a48e",
   "metadata": {},
   "outputs": [
    {
     "name": "stderr",
     "output_type": "stream",
     "text": [
      "2023-03-29 15:33:44.473596: I tensorflow/core/platform/cpu_feature_guard.cc:193] This TensorFlow binary is optimized with oneAPI Deep Neural Network Library (oneDNN) to use the following CPU instructions in performance-critical operations:  AVX2 FMA\n",
      "To enable them in other operations, rebuild TensorFlow with the appropriate compiler flags.\n",
      "2023-03-29 15:33:44.664326: W tensorflow/compiler/xla/stream_executor/platform/default/dso_loader.cc:64] Could not load dynamic library 'libcudart.so.11.0'; dlerror: libcudart.so.11.0: cannot open shared object file: No such file or directory\n",
      "2023-03-29 15:33:44.664351: I tensorflow/compiler/xla/stream_executor/cuda/cudart_stub.cc:29] Ignore above cudart dlerror if you do not have a GPU set up on your machine.\n",
      "2023-03-29 15:33:45.504123: W tensorflow/compiler/xla/stream_executor/platform/default/dso_loader.cc:64] Could not load dynamic library 'libnvinfer.so.7'; dlerror: libnvinfer.so.7: cannot open shared object file: No such file or directory\n",
      "2023-03-29 15:33:45.504216: W tensorflow/compiler/xla/stream_executor/platform/default/dso_loader.cc:64] Could not load dynamic library 'libnvinfer_plugin.so.7'; dlerror: libnvinfer_plugin.so.7: cannot open shared object file: No such file or directory\n",
      "2023-03-29 15:33:45.504226: W tensorflow/compiler/tf2tensorrt/utils/py_utils.cc:38] TF-TRT Warning: Cannot dlopen some TensorRT libraries. If you would like to use Nvidia GPU with TensorRT, please make sure the missing libraries mentioned above are installed properly.\n"
     ]
    }
   ],
   "source": [
    "import autokeras as ak\n",
    "import matplotlib.pyplot as plt\n",
    "import numpy as np\n",
    "from tensorflow.keras.datasets import cifar100\n",
    "from tensorflow.keras.utils import to_categorical"
   ]
  },
  {
   "cell_type": "markdown",
   "id": "fb4b8246",
   "metadata": {},
   "source": [
    "Loads the CIFAR-100 dataset using the tensorflow.keras.datasets module, and splits it into training and testing sets. And converts the labels to categorical format using the to_categorical() function .Also prints the shapes of the training and testing data."
   ]
  },
  {
   "cell_type": "code",
   "execution_count": 2,
   "id": "0ffbcd7c",
   "metadata": {},
   "outputs": [
    {
     "name": "stdout",
     "output_type": "stream",
     "text": [
      "(50000, 32, 32, 3)\n",
      "(10000, 32, 32, 3)\n"
     ]
    }
   ],
   "source": [
    "\n",
    "# Load the CIFAR-10 dataset\n",
    "(x_train, y_train), (x_test, y_test) = cifar100.load_data()\n",
    "# Convert labels to categorical format\n",
    "y_train = to_categorical(y_train)\n",
    "y_test = to_categorical(y_test)\n",
    "print(x_train.shape)\n",
    "print(x_test.shape)"
   ]
  },
  {
   "cell_type": "code",
   "execution_count": 3,
   "id": "791d9886",
   "metadata": {},
   "outputs": [
    {
     "data": {
      "image/png": "[encoded data removed]",
      "text/plain": [
       "<Figure size 640x480 with 2 Axes>"
      ]
     },
     "metadata": {},
     "output_type": "display_data"
    }
   ],
   "source": [
    "%matplotlib inline\n",
    "fig = plt.figure()\n",
    "ax = fig.add_subplot(1, 2, 1)\n",
    "plt.imshow(x_train[1234])\n",
    "ax.set_title('Train sample')\n",
    "ax = fig.add_subplot(1, 2, 2)\n",
    "plt.imshow(x_test[1234])\n",
    "ax.set_title('Test sample')\n",
    "plt.show()\n"
   ]
  },
  {
   "cell_type": "markdown",
   "id": "6e3ca0c3",
   "metadata": {},
   "source": [
    "Here defines the AutoModel using the AutoKeras library, which consists of an ImageInput layer, an ImageBlock layer, a Flatten layer, a DenseBlock layer, and a ClassificationHead layer."
   ]
  },
  {
   "cell_type": "code",
   "execution_count": 4,
   "id": "16c41f01",
   "metadata": {},
   "outputs": [],
   "source": [
    "# Define the AutoModel\n",
    "input_node = ak.ImageInput()\n",
    "output_node = ak.ImageBlock()(input_node)\n",
    "output_node = ak.Flatten()(output_node)\n",
    "output_node = ak.DenseBlock()(output_node)\n",
    "output_node = ak.ClassificationHead()(output_node)"
   ]
  },
  {
   "cell_type": "markdown",
   "id": "8d8dfe00",
   "metadata": {},
   "source": [
    "Here initializes the AutoModel with input and output nodes, and specifies hyperparameters such as the maximum number of trials."
   ]
  },
  {
   "cell_type": "code",
   "execution_count": 6,
   "id": "a523ebf7",
   "metadata": {},
   "outputs": [],
   "source": [
    "# Initialize the AutoModel\n",
    "clf = ak.AutoModel(\n",
    "    inputs=input_node,\n",
    "    outputs=output_node,\n",
    "    overwrite=True,\n",
    "    max_trials=2\n",
    ")"
   ]
  },
  {
   "cell_type": "markdown",
   "id": "f27bd1b4",
   "metadata": {},
   "source": [
    "Fits the AutoModel to the training data, with a specified number of epochs here 10 epochs"
   ]
  },
  {
   "cell_type": "code",
   "execution_count": 7,
   "id": "4556af2b",
   "metadata": {},
   "outputs": [
    {
     "name": "stdout",
     "output_type": "stream",
     "text": [
      "Trial 2 Complete [01h 22m 38s]\n",
      "val_loss: 4.363196849822998\n",
      "\n",
      "Best val_loss So Far: 4.363196849822998\n",
      "Total elapsed time: 02h 42m 25s\n",
      "INFO:tensorflow:Oracle triggered exit\n",
      "Epoch 1/2\n",
      "1563/1563 [==============================] - 3063s 2s/step - loss: 4.6082 - accuracy: 0.0089\n",
      "Epoch 2/2\n",
      "1563/1563 [==============================] - 3068s 2s/step - loss: 4.6059 - accuracy: 0.0083\n"
     ]
    },
    {
     "name": "stderr",
     "output_type": "stream",
     "text": [
      "WARNING:absl:Found untraced functions such as _update_step_xla, _jit_compiled_convolution_op, _jit_compiled_convolution_op, _jit_compiled_convolution_op, _jit_compiled_convolution_op while saving (showing 5 of 54). These functions will not be directly callable after loading.\n"
     ]
    },
    {
     "name": "stdout",
     "output_type": "stream",
     "text": [
      "INFO:tensorflow:Assets written to: ./auto_model/best_model/assets\n"
     ]
    },
    {
     "name": "stderr",
     "output_type": "stream",
     "text": [
      "INFO:tensorflow:Assets written to: ./auto_model/best_model/assets\n"
     ]
    },
    {
     "data": {
      "text/plain": [
       "<keras.callbacks.History at 0x7f460803b040>"
      ]
     },
     "execution_count": 7,
     "metadata": {},
     "output_type": "execute_result"
    }
   ],
   "source": [
    "# Fit the AutoModel to the CIFAR-100 dataset\n",
    "clf.fit(x_train, y_train, epochs=2)"
   ]
  },
  {
   "cell_type": "markdown",
   "id": "fd0c62a2",
   "metadata": {},
   "source": [
    "Evaluates the accuracy of the AutoModel on the test data."
   ]
  },
  {
   "cell_type": "code",
   "execution_count": 8,
   "id": "5ca180d4",
   "metadata": {},
   "outputs": [
    {
     "name": "stdout",
     "output_type": "stream",
     "text": [
      "313/313 [==============================] - 27s 82ms/step - loss: 4.6052 - accuracy: 0.0100\n",
      "Accuracy: 1.00%\n"
     ]
    }
   ],
   "source": [
    "\n",
    "# Evaluate the AutoModel on the test data\n",
    "accuracy = clf.evaluate(x_test, y_test)[1]\n",
    "print('Accuracy: {:.2f}%'.format(accuracy * 100))\n"
   ]
  },
  {
   "cell_type": "markdown",
   "id": "2fcc026f",
   "metadata": {},
   "source": [
    "Finally, exports the trained model as a Keras model, prints the type and summary of the Keras model."
   ]
  },
  {
   "cell_type": "code",
   "execution_count": 9,
   "id": "61b271ac",
   "metadata": {},
   "outputs": [
    {
     "name": "stdout",
     "output_type": "stream",
     "text": [
      "<class 'keras.engine.functional.Functional'>\n",
      "Model: \"model\"\n",
      "_________________________________________________________________\n",
      " Layer (type)                Output Shape              Param #   \n",
      "=================================================================\n",
      " input_1 (InputLayer)        [(None, 32, 32, 3)]       0         \n",
      "                                                                 \n",
      " cast_to_float32 (CastToFloa  (None, 32, 32, 3)        0         \n",
      " t32)                                                            \n",
      "                                                                 \n",
      " resnet50 (Functional)       (None, 1, 1, 2048)        23587712  \n",
      "                                                                 \n",
      " flatten (Flatten)           (None, 2048)              0         \n",
      "                                                                 \n",
      " dense (Dense)               (None, 32)                65568     \n",
      "                                                                 \n",
      " re_lu (ReLU)                (None, 32)                0         \n",
      "                                                                 \n",
      " dense_1 (Dense)             (None, 32)                1056      \n",
      "                                                                 \n",
      " re_lu_1 (ReLU)              (None, 32)                0         \n",
      "                                                                 \n",
      " dropout (Dropout)           (None, 32)                0         \n",
      "                                                                 \n",
      " dense_2 (Dense)             (None, 100)               3300      \n",
      "                                                                 \n",
      " classification_head_1 (Soft  (None, 100)              0         \n",
      " max)                                                            \n",
      "                                                                 \n",
      "=================================================================\n",
      "Total params: 23,657,636\n",
      "Trainable params: 23,604,516\n",
      "Non-trainable params: 53,120\n",
      "_________________________________________________________________\n"
     ]
    }
   ],
   "source": [
    "# Export as a Keras Model.\n",
    "model = clf.export_model()\n",
    "#print(model)\n",
    "print(type(model))  \n",
    "model.summary()"
   ]
  },
  {
   "cell_type": "code",
   "execution_count": null,
   "id": "2bbd2d86",
   "metadata": {},
   "outputs": [],
   "source": []
  }
 ],
 "metadata": {
  "kernelspec": {
   "display_name": "Python 3 (ipykernel)",
   "language": "python",
   "name": "python3"
  },
  "language_info": {
   "codemirror_mode": {
    "name": "ipython",
    "version": 3
   },
   "file_extension": ".py",
   "mimetype": "text/x-python",
   "name": "python",
   "nbconvert_exporter": "python",
   "pygments_lexer": "ipython3",
   "version": "3.8.0"
  }
 },
 "nbformat": 4,
 "nbformat_minor": 5
}

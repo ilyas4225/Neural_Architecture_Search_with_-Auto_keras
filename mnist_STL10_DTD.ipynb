{
 "cells": [
  {
   "cell_type": "markdown",
   "id": "c9b9292b",
   "metadata": {},
   "source": [
    "# Nueral architecture search on minst dataset"
   ]
  },
  {
   "cell_type": "code",
   "execution_count": 1,
   "id": "bf10136b",
   "metadata": {},
   "outputs": [
    {
     "name": "stderr",
     "output_type": "stream",
     "text": [
      "2023-03-21 21:44:23.180790: I tensorflow/core/platform/cpu_feature_guard.cc:193] This TensorFlow binary is optimized with oneAPI Deep Neural Network Library (oneDNN) to use the following CPU instructions in performance-critical operations:  AVX2 FMA\n",
      "To enable them in other operations, rebuild TensorFlow with the appropriate compiler flags.\n",
      "2023-03-21 21:44:24.013225: W tensorflow/compiler/xla/stream_executor/platform/default/dso_loader.cc:64] Could not load dynamic library 'libcudart.so.11.0'; dlerror: libcudart.so.11.0: cannot open shared object file: No such file or directory\n",
      "2023-03-21 21:44:24.013286: I tensorflow/compiler/xla/stream_executor/cuda/cudart_stub.cc:29] Ignore above cudart dlerror if you do not have a GPU set up on your machine.\n",
      "2023-03-21 21:44:25.820364: W tensorflow/compiler/xla/stream_executor/platform/default/dso_loader.cc:64] Could not load dynamic library 'libnvinfer.so.7'; dlerror: libnvinfer.so.7: cannot open shared object file: No such file or directory\n",
      "2023-03-21 21:44:25.820441: W tensorflow/compiler/xla/stream_executor/platform/default/dso_loader.cc:64] Could not load dynamic library 'libnvinfer_plugin.so.7'; dlerror: libnvinfer_plugin.so.7: cannot open shared object file: No such file or directory\n",
      "2023-03-21 21:44:25.820448: W tensorflow/compiler/tf2tensorrt/utils/py_utils.cc:38] TF-TRT Warning: Cannot dlopen some TensorRT libraries. If you would like to use Nvidia GPU with TensorRT, please make sure the missing libraries mentioned above are installed properly.\n"
     ]
    }
   ],
   "source": [
    "import numpy as np\n",
    "import tensorflow as tf\n",
    "from tensorflow.keras.datasets import mnist\n",
    "\n",
    "import autokeras as ak\n"
   ]
  },
  {
   "cell_type": "code",
   "execution_count": 2,
   "id": "8d6db1f6",
   "metadata": {},
   "outputs": [
    {
     "name": "stdout",
     "output_type": "stream",
     "text": [
      "Device: cuda\n"
     ]
    }
   ],
   "source": [
    "import torch\n",
    "# Set the device to GPU if available\n",
    "device = torch.device('cuda' if torch.cuda.is_available() else 'cpu')\n",
    "print('Device:', device)\n"
   ]
  },
  {
   "cell_type": "markdown",
   "id": "8fb1ecf0",
   "metadata": {},
   "source": [
    "# Loading data\n",
    "Here load the mnist data into training and testing samples"
   ]
  },
  {
   "cell_type": "code",
   "execution_count": 3,
   "id": "55a58f28",
   "metadata": {},
   "outputs": [
    {
     "name": "stdout",
     "output_type": "stream",
     "text": [
      "(60000, 28, 28)\n",
      "(60000,)\n",
      "[5 0 4]\n"
     ]
    }
   ],
   "source": [
    "(x_train, y_train), (x_test, y_test) = mnist.load_data()\n",
    "print(x_train.shape)  # (60000, 28, 28)\n",
    "print(y_train.shape)  # (60000,)\n",
    "print(y_train[:3])  # array([7, 2, 1], dtype=uint8)"
   ]
  },
  {
   "cell_type": "markdown",
   "id": "568f421d",
   "metadata": {},
   "source": [
    "# Training\n",
    " Here train the autokeras built in image clasfier with mnist data after the training the validation accuracy of the architecture is 98 %"
   ]
  },
  {
   "cell_type": "code",
   "execution_count": 10,
   "id": "08373714",
   "metadata": {
    "scrolled": true
   },
   "outputs": [
    {
     "name": "stdout",
     "output_type": "stream",
     "text": [
      "Trial 1 Complete [00h 06m 51s]\n",
      "val_loss: 0.042387738823890686\n",
      "\n",
      "Best val_loss So Far: 0.042387738823890686\n",
      "Total elapsed time: 00h 06m 51s\n",
      "INFO:tensorflow:Oracle triggered exit\n"
     ]
    },
    {
     "name": "stderr",
     "output_type": "stream",
     "text": [
      "INFO:tensorflow:Oracle triggered exit\n"
     ]
    },
    {
     "name": "stdout",
     "output_type": "stream",
     "text": [
      "Epoch 1/10\n",
      "1875/1875 [==============================] - 47s 25ms/step - loss: 0.1546 - accuracy: 0.9532\n",
      "Epoch 2/10\n",
      "1875/1875 [==============================] - 47s 25ms/step - loss: 0.0721 - accuracy: 0.9779\n",
      "Epoch 3/10\n",
      "1875/1875 [==============================] - 48s 26ms/step - loss: 0.0573 - accuracy: 0.9822\n",
      "Epoch 4/10\n",
      "1875/1875 [==============================] - 52s 28ms/step - loss: 0.0505 - accuracy: 0.9842\n",
      "Epoch 5/10\n",
      "1875/1875 [==============================] - 48s 26ms/step - loss: 0.0436 - accuracy: 0.9863\n",
      "Epoch 6/10\n",
      "1875/1875 [==============================] - 50s 26ms/step - loss: 0.0403 - accuracy: 0.9871\n",
      "Epoch 7/10\n",
      "1875/1875 [==============================] - 49s 26ms/step - loss: 0.0353 - accuracy: 0.9894\n",
      "Epoch 8/10\n",
      "1875/1875 [==============================] - 48s 26ms/step - loss: 0.0349 - accuracy: 0.9888\n",
      "Epoch 9/10\n",
      "1875/1875 [==============================] - 47s 25ms/step - loss: 0.0317 - accuracy: 0.9891\n",
      "Epoch 10/10\n",
      "1875/1875 [==============================] - 50s 27ms/step - loss: 0.0317 - accuracy: 0.9901\n"
     ]
    },
    {
     "name": "stderr",
     "output_type": "stream",
     "text": [
      "WARNING:absl:Found untraced functions such as _jit_compiled_convolution_op, _jit_compiled_convolution_op, _update_step_xla while saving (showing 3 of 3). These functions will not be directly callable after loading.\n"
     ]
    },
    {
     "name": "stdout",
     "output_type": "stream",
     "text": [
      "INFO:tensorflow:Assets written to: ./image_classifier/best_model/assets\n"
     ]
    },
    {
     "name": "stderr",
     "output_type": "stream",
     "text": [
      "INFO:tensorflow:Assets written to: ./image_classifier/best_model/assets\n"
     ]
    },
    {
     "name": "stdout",
     "output_type": "stream",
     "text": [
      "313/313 [==============================] - 2s 5ms/step\n",
      "313/313 [==============================] - 2s 5ms/step\n",
      "[['7']\n",
      " ['2']\n",
      " ['1']\n",
      " ...\n",
      " ['4']\n",
      " ['5']\n",
      " ['6']]\n",
      "313/313 [==============================] - 2s 5ms/step - loss: 0.0362 - accuracy: 0.9887\n",
      "[0.03616759181022644, 0.9886999726295471]\n"
     ]
    }
   ],
   "source": [
    "# Initialize the image classifier.\n",
    "clf = ak.ImageClassifier(overwrite=True, max_trials=1)\n",
    "# Feed the image classifier with training data.\n",
    "clf.fit(x_train, y_train, epochs=10)\n",
    "\n",
    "\n",
    "# Predict with the best model.\n",
    "predicted_y = clf.predict(x_test)\n",
    "print(predicted_y)\n",
    "\n",
    "\n",
    "# Evaluate the best model with testing data.\n",
    "print(clf.evaluate(x_test, y_test))"
   ]
  },
  {
   "cell_type": "markdown",
   "id": "d98e5758",
   "metadata": {},
   "source": [
    "# Customized Search Space\n",
    "\n",
    "here only resnet archirtures will be searched for classification on mnist data will be train."
   ]
  },
  {
   "cell_type": "code",
   "execution_count": 4,
   "id": "fbcae16f",
   "metadata": {},
   "outputs": [
    {
     "name": "stdout",
     "output_type": "stream",
     "text": [
      "Trial 1 Complete [04h 43m 01s]\n",
      "val_loss: 0.06486619263887405\n",
      "\n",
      "Best val_loss So Far: 0.06486619263887405\n",
      "Total elapsed time: 04h 43m 01s\n",
      "INFO:tensorflow:Oracle triggered exit\n",
      "Epoch 1/10\n",
      "1875/1875 [==============================] - 2046s 1s/step - loss: 0.3450 - accuracy: 0.9168\n",
      "Epoch 2/10\n",
      "1875/1875 [==============================] - 2036s 1s/step - loss: 0.1741 - accuracy: 0.9604\n",
      "Epoch 3/10\n",
      "1875/1875 [==============================] - 2039s 1s/step - loss: 0.2676 - accuracy: 0.9439\n",
      "Epoch 4/10\n",
      "1875/1875 [==============================] - 2040s 1s/step - loss: 0.1767 - accuracy: 0.9560\n",
      "Epoch 5/10\n",
      "1875/1875 [==============================] - 2045s 1s/step - loss: 0.2132 - accuracy: 0.9497\n",
      "Epoch 6/10\n",
      "1875/1875 [==============================] - 2043s 1s/step - loss: 0.1179 - accuracy: 0.9700\n",
      "Epoch 7/10\n",
      "1875/1875 [==============================] - 2046s 1s/step - loss: 0.1320 - accuracy: 0.9692\n",
      "Epoch 8/10\n",
      "1875/1875 [==============================] - 2049s 1s/step - loss: 0.0977 - accuracy: 0.9760\n",
      "Epoch 9/10\n",
      "1875/1875 [==============================] - 2050s 1s/step - loss: 0.0555 - accuracy: 0.9852\n",
      "Epoch 10/10\n",
      "1875/1875 [==============================] - 2050s 1s/step - loss: 0.0573 - accuracy: 0.9855\n"
     ]
    },
    {
     "name": "stderr",
     "output_type": "stream",
     "text": [
      "WARNING:absl:Found untraced functions such as _update_step_xla, _jit_compiled_convolution_op, _jit_compiled_convolution_op, _jit_compiled_convolution_op, _jit_compiled_convolution_op while saving (showing 5 of 54). These functions will not be directly callable after loading.\n"
     ]
    },
    {
     "name": "stdout",
     "output_type": "stream",
     "text": [
      "INFO:tensorflow:Assets written to: ./auto_model/best_model/assets\n"
     ]
    },
    {
     "name": "stderr",
     "output_type": "stream",
     "text": [
      "INFO:tensorflow:Assets written to: ./auto_model/best_model/assets\n"
     ]
    },
    {
     "data": {
      "text/plain": [
       "<keras.callbacks.History at 0x7f5b0c3cfee0>"
      ]
     },
     "execution_count": 4,
     "metadata": {},
     "output_type": "execute_result"
    }
   ],
   "source": [
    "device = torch.device('cuda' if torch.cuda.is_available() else 'cpu')\n",
    "print('Device:', device)\n",
    "input_node = ak.ImageInput()\n",
    "output_node = ak.ImageBlock(\n",
    "    # Only search ResNet architectures.\n",
    "    block_type=\"resnet\",\n",
    "    # Normalize the dataset.\n",
    "    normalize=True,\n",
    "    # Do not do data augmentation.\n",
    "    augment=False,\n",
    ")(input_node)\n",
    "output_node = ak.ClassificationHead()(output_node)\n",
    "clf = ak.AutoModel(\n",
    "    inputs=input_node, outputs=output_node, overwrite=True, max_trials=1\n",
    ")\n",
    "clf.fit(x_train, y_train, epochs=10)"
   ]
  },
  {
   "cell_type": "code",
   "execution_count": 5,
   "id": "d64fe019",
   "metadata": {},
   "outputs": [
    {
     "name": "stdout",
     "output_type": "stream",
     "text": [
      "Trial 1 Complete [07h 48m 30s]\n",
      "val_loss: 4.578865051269531\n",
      "\n",
      "Best val_loss So Far: 4.578865051269531\n",
      "Total elapsed time: 07h 48m 30s\n",
      "INFO:tensorflow:Oracle triggered exit\n"
     ]
    },
    {
     "name": "stderr",
     "output_type": "stream",
     "text": [
      "INFO:tensorflow:Oracle triggered exit\n"
     ]
    },
    {
     "name": "stdout",
     "output_type": "stream",
     "text": [
      "Epoch 1/10\n",
      "1875/1875 [==============================] - 3580s 2s/step - loss: 0.2054 - accuracy: 0.9427\n",
      "Epoch 2/10\n",
      "1875/1875 [==============================] - 3548s 2s/step - loss: 0.1375 - accuracy: 0.9671\n",
      "Epoch 3/10\n",
      "1875/1875 [==============================] - 4527s 2s/step - loss: 0.1028 - accuracy: 0.9740\n",
      "Epoch 4/10\n",
      "1875/1875 [==============================] - 3477s 2s/step - loss: 0.0775 - accuracy: 0.9800\n",
      "Epoch 5/10\n",
      "1875/1875 [==============================] - 3392s 2s/step - loss: 0.0682 - accuracy: 0.9813\n",
      "Epoch 6/10\n",
      "1875/1875 [==============================] - 3394s 2s/step - loss: 0.0642 - accuracy: 0.9837\n",
      "Epoch 7/10\n",
      "1875/1875 [==============================] - 3395s 2s/step - loss: 0.0425 - accuracy: 0.9880\n",
      "Epoch 8/10\n",
      "1875/1875 [==============================] - 5160s 3s/step - loss: 0.0364 - accuracy: 0.9894\n",
      "Epoch 9/10\n",
      "1875/1875 [==============================] - 5909s 3s/step - loss: 0.0310 - accuracy: 0.9911\n",
      "Epoch 10/10\n",
      "1875/1875 [==============================] - 5899s 3s/step - loss: 0.0275 - accuracy: 0.9921\n"
     ]
    },
    {
     "name": "stderr",
     "output_type": "stream",
     "text": [
      "WARNING:absl:Found untraced functions such as _update_step_xla, _jit_compiled_convolution_op, _jit_compiled_convolution_op, _jit_compiled_convolution_op, _jit_compiled_convolution_op while saving (showing 5 of 105). These functions will not be directly callable after loading.\n"
     ]
    },
    {
     "name": "stdout",
     "output_type": "stream",
     "text": [
      "INFO:tensorflow:Assets written to: ./auto_model/best_model/assets\n"
     ]
    },
    {
     "name": "stderr",
     "output_type": "stream",
     "text": [
      "INFO:tensorflow:Assets written to: ./auto_model/best_model/assets\n"
     ]
    },
    {
     "data": {
      "text/plain": [
       "<keras.callbacks.History at 0x7f5a9a12a790>"
      ]
     },
     "execution_count": 5,
     "metadata": {},
     "output_type": "execute_result"
    }
   ],
   "source": [
    "\n",
    "input_node = ak.ImageInput()\n",
    "output_node = ak.Normalization()(input_node)\n",
    "output_node = ak.ImageAugmentation(horizontal_flip=False)(output_node)\n",
    "output_node = ak.ResNetBlock(version=\"v2\")(output_node)\n",
    "output_node = ak.ClassificationHead()(output_node)\n",
    "clf = ak.AutoModel(\n",
    "    inputs=input_node, outputs=output_node, overwrite=True, max_trials=1\n",
    ")\n",
    "clf.fit(x_train, y_train, epochs=10)"
   ]
  },
  {
   "cell_type": "markdown",
   "id": "5d313d0a",
   "metadata": {},
   "source": [
    "# AutoKeras image classifier for STL10 \n",
    "For train the image classifier on STL10 dataset "
   ]
  },
  {
   "cell_type": "code",
   "execution_count": 1,
   "id": "e954a935",
   "metadata": {},
   "outputs": [
    {
     "name": "stdout",
     "output_type": "stream",
     "text": [
      "Trial 1 Complete [00h 01m 29s]\n",
      "val_loss: 1.6258485317230225\n",
      "\n",
      "Best val_loss So Far: 1.6258485317230225\n",
      "Total elapsed time: 00h 01m 29s\n",
      "INFO:tensorflow:Oracle triggered exit\n",
      "Epoch 1/10\n",
      "157/157 [==============================] - 9s 54ms/step - loss: 1.9666 - accuracy: 0.2932\n",
      "Epoch 2/10\n",
      "157/157 [==============================] - 9s 54ms/step - loss: 1.7160 - accuracy: 0.3764\n",
      "Epoch 3/10\n",
      "157/157 [==============================] - 9s 57ms/step - loss: 1.6092 - accuracy: 0.4230\n",
      "Epoch 4/10\n",
      "157/157 [==============================] - 8s 52ms/step - loss: 1.5091 - accuracy: 0.4564\n",
      "Epoch 5/10\n",
      "157/157 [==============================] - 8s 51ms/step - loss: 1.4426 - accuracy: 0.4760\n",
      "Epoch 6/10\n",
      "157/157 [==============================] - 8s 53ms/step - loss: 1.3841 - accuracy: 0.4936\n",
      "Epoch 7/10\n",
      "157/157 [==============================] - 8s 54ms/step - loss: 1.3012 - accuracy: 0.5352\n",
      "Epoch 8/10\n",
      "157/157 [==============================] - 8s 50ms/step - loss: 1.2621 - accuracy: 0.5454\n",
      "Epoch 9/10\n",
      "157/157 [==============================] - 8s 53ms/step - loss: 1.2052 - accuracy: 0.5634\n",
      "Epoch 10/10\n",
      "157/157 [==============================] - 8s 54ms/step - loss: 1.1575 - accuracy: 0.5802\n"
     ]
    },
    {
     "name": "stderr",
     "output_type": "stream",
     "text": [
      "WARNING:absl:Found untraced functions such as _jit_compiled_convolution_op, _jit_compiled_convolution_op, _update_step_xla while saving (showing 3 of 3). These functions will not be directly callable after loading.\n"
     ]
    },
    {
     "name": "stdout",
     "output_type": "stream",
     "text": [
      "INFO:tensorflow:Assets written to: ./image_classifier/best_model/assets\n"
     ]
    },
    {
     "name": "stderr",
     "output_type": "stream",
     "text": [
      "INFO:tensorflow:Assets written to: ./image_classifier/best_model/assets\n"
     ]
    },
    {
     "name": "stdout",
     "output_type": "stream",
     "text": [
      "250/250 [==============================] - 5s 13ms/step - loss: 1.5838 - accuracy: 0.4634\n",
      "Test accuracy: 0.4633750021457672\n"
     ]
    }
   ],
   "source": [
    "import numpy as np\n",
    "import torch\n",
    "import torchvision.datasets as datasets\n",
    "import torchvision.transforms as transforms\n",
    "from autokeras import ImageClassifier\n",
    "\n",
    "# Set the device to GPU if available\n",
    "device = torch.device('cuda' if torch.cuda.is_available() else 'cpu')\n",
    "print('Device:', device)\n",
    "\n",
    "# Define the transform for the dataset\n",
    "transform = transforms.Compose([\n",
    "    transforms.ToTensor(),\n",
    "    transforms.Normalize(mean=[0.5, 0.5, 0.5], std=[0.5, 0.5, 0.5])\n",
    "])\n",
    "\n",
    "# Load the STL10 dataset using the DataLoader class\n",
    "train_dataset = datasets.STL10(root='./data', split='train', transform=transform, download=True)\n",
    "test_dataset = datasets.STL10(root='./data', split='test', transform=transform, download=True)\n",
    "\n",
    "train_loader = torch.utils.data.DataLoader(train_dataset, batch_size=6, shuffle=True)\n",
    "test_loader = torch.utils.data.DataLoader(test_dataset, batch_size=6, shuffle=False)\n",
    "\n",
    "# Extract the data and labels from the loaders\n",
    "x_train = []\n",
    "y_train = []\n",
    "for data, label in train_loader:\n",
    "    x_train.append(data.numpy())\n",
    "    y_train.append(label.numpy())\n",
    "x_train = np.concatenate(x_train, axis=0)\n",
    "y_train = np.concatenate(y_train, axis=0)\n",
    "\n",
    "x_test = []\n",
    "y_test = []\n",
    "for data, label in test_loader:\n",
    "    x_test.append(data.numpy())\n",
    "    y_test.append(label.numpy())\n",
    "x_test = np.concatenate(x_test, axis=0)\n",
    "y_test = np.concatenate(y_test, axis=0)\n",
    "\n",
    "# Move the data to GPU if available\n",
    "#x_train = torch.from_numpy(x_train).to(device)\n",
    "#y_train = torch.from_numpy(y_train).to(device)\n",
    "#x_test = torch.from_numpy(x_test).to(device)\n",
    "#y_test = torch.from_numpy(y_test).to(device)\n",
    "\n",
    "# Define the model\n",
    "clf = ImageClassifier(max_trials=1, overwrite=True, seed=42)\n",
    "\n",
    "# Train the model\n",
    "clf.fit(x_train, y_train, epochs=10)\n",
    "\n",
    "# Evaluate the model\n",
    "score = clf.evaluate(x_test, y_test)\n",
    "print('Test accuracy:', score[1])\n"
   ]
  },
  {
   "cell_type": "markdown",
   "id": "b59041d0",
   "metadata": {},
   "source": [
    "# AutoModel"
   ]
  },
  {
   "cell_type": "code",
   "execution_count": null,
   "id": "d49f00fa",
   "metadata": {},
   "outputs": [
    {
     "name": "stdout",
     "output_type": "stream",
     "text": [
      "Trial 2 Complete [00h 53m 39s]\n",
      "val_loss: 2.166759729385376\n",
      "\n",
      "Best val_loss So Far: 1.8759011030197144\n",
      "Total elapsed time: 01h 46m 55s\n",
      "INFO:tensorflow:Oracle triggered exit\n"
     ]
    },
    {
     "name": "stderr",
     "output_type": "stream",
     "text": [
      "INFO:tensorflow:Oracle triggered exit\n"
     ]
    },
    {
     "name": "stdout",
     "output_type": "stream",
     "text": [
      "Epoch 1/10\n",
      "157/157 [==============================] - 403s 2s/step - loss: 2.3194 - accuracy: 0.1180\n",
      "Epoch 2/10\n",
      "157/157 [==============================] - 388s 2s/step - loss: 2.1743 - accuracy: 0.1734\n",
      "Epoch 3/10\n",
      "157/157 [==============================] - 396s 3s/step - loss: 2.0899 - accuracy: 0.1850\n",
      "Epoch 4/10\n",
      "157/157 [==============================] - 401s 3s/step - loss: 2.0313 - accuracy: 0.1864\n",
      "Epoch 5/10\n",
      "157/157 [==============================] - 389s 2s/step - loss: 1.9911 - accuracy: 0.1922\n",
      "Epoch 6/10\n",
      "157/157 [==============================] - 386s 2s/step - loss: 1.9605 - accuracy: 0.1922\n",
      "Epoch 7/10\n",
      "157/157 [==============================] - 347s 2s/step - loss: 1.9255 - accuracy: 0.1962\n",
      "Epoch 8/10\n",
      "157/157 [==============================] - 397s 3s/step - loss: 1.8821 - accuracy: 0.1950\n",
      "Epoch 9/10\n",
      "157/157 [==============================] - 403s 3s/step - loss: 1.8521 - accuracy: 0.1980\n",
      "Epoch 10/10\n",
      "157/157 [==============================] - 389s 2s/step - loss: 1.8342 - accuracy: 0.2106\n"
     ]
    },
    {
     "name": "stderr",
     "output_type": "stream",
     "text": [
      "WARNING:absl:Found untraced functions such as _jit_compiled_convolution_op, _update_step_xla, _jit_compiled_convolution_op, _jit_compiled_convolution_op, _jit_compiled_convolution_op while saving (showing 5 of 55). These functions will not be directly callable after loading.\n"
     ]
    },
    {
     "name": "stdout",
     "output_type": "stream",
     "text": [
      "INFO:tensorflow:Assets written to: ./auto_model/best_model/assets\n"
     ]
    },
    {
     "name": "stderr",
     "output_type": "stream",
     "text": [
      "INFO:tensorflow:Assets written to: ./auto_model/best_model/assets\n"
     ]
    }
   ],
   "source": [
    "# Define the AutoModel\n",
    "input_node = ak.ImageInput()\n",
    "output_node = ak.ImageBlock()(input_node)\n",
    "output_node = ak.Flatten()(output_node)\n",
    "output_node = ak.DenseBlock()(output_node)\n",
    "output_node = ak.ClassificationHead()(output_node)\n",
    "\n",
    "# Initialize the AutoModel\n",
    "clf = ak.AutoModel(\n",
    "    inputs=input_node,\n",
    "    outputs=output_node,\n",
    "    overwrite=True,\n",
    "    max_trials=2\n",
    ")\n",
    "\n",
    "clf.fit(x_train, y_train, epochs=10)\n",
    "\n",
    "# Evaluate the AutoModel on the test data\n",
    "accuracy = clf.evaluate(x_test, y_test)[1]\n",
    "print('Accuracy: {:.2f}%'.format(accuracy * 100))\n",
    "\n"
   ]
  },
  {
   "cell_type": "markdown",
   "id": "d2cf4239",
   "metadata": {},
   "source": [
    "# DTD"
   ]
  },
  {
   "cell_type": "markdown",
   "id": "3fc3b38d",
   "metadata": {},
   "source": [
    " # AutoModel\n",
    " Nueral architecture search with AutoModel on DTD dataset\n",
    " "
   ]
  },
  {
   "cell_type": "code",
   "execution_count": 3,
   "id": "1661bc3d",
   "metadata": {},
   "outputs": [],
   "source": [
    "import numpy as np\n",
    "import torch\n",
    "import torchvision.datasets as datasets\n",
    "import torchvision.transforms as transforms\n",
    "from autokeras import ImageClassifier\n",
    "# Check if a GPU is available, if not fall back to CPU\n",
    "device = torch.device(\"cuda:0\" if torch.cuda.is_available() else \"cpu\")\n",
    "# Define the transform for the dataset\n",
    "transform = transforms.Compose([\n",
    "    transforms.Resize((224, 224)),  # add resize operation\n",
    "    transforms.ToTensor(),\n",
    "    transforms.Normalize(mean=[0.5, 0.5, 0.5], std=[0.5, 0.5, 0.5])\n",
    "])"
   ]
  },
  {
   "cell_type": "code",
   "execution_count": 4,
   "id": "a0a81448",
   "metadata": {},
   "outputs": [],
   "source": [
    "# Load the DTD dataset using the DataLoader class\n",
    "train_dataset = datasets.ImageFolder(root='/media/abdul/8266fdc5-61f6-47d6-9e82-aa0e56f4b319/Ilyas/classification/DTD/train', transform=transform)\n",
    "test_dataset = datasets.ImageFolder(root='/media/abdul/8266fdc5-61f6-47d6-9e82-aa0e56f4b319/Ilyas/classification/DTD/val', transform=transform)\n",
    "\n",
    "train_loader = torch.utils.data.DataLoader(train_dataset, batch_size=32, shuffle=True, collate_fn=lambda x: torch.utils.data.dataloader.default_collate([y for y in x]))\n",
    "test_loader = torch.utils.data.DataLoader(test_dataset, batch_size=32, shuffle=False, collate_fn=lambda x: torch.utils.data.dataloader.default_collate([y for y in x]))\n",
    "\n",
    "# Extract the data and labels from the loaders\n",
    "x_train = np.concatenate([data.numpy() for data, label in train_loader], axis=0)\n",
    "y_train = np.concatenate([label.numpy() for data, label in train_loader], axis=0)\n",
    "\n",
    "x_test = np.concatenate([data.numpy() for data, label in test_loader], axis=0)\n",
    "y_test = np.concatenate([label.numpy() for data, label in test_loader], axis=0)"
   ]
  },
  {
   "cell_type": "code",
   "execution_count": 5,
   "id": "b7ba9d7a",
   "metadata": {},
   "outputs": [
    {
     "name": "stdout",
     "output_type": "stream",
     "text": [
      "Trial 3 Complete [00h 27m 28s]\n",
      "val_loss: 3.960472345352173\n",
      "\n",
      "Best val_loss So Far: 3.932887077331543\n",
      "Total elapsed time: 01h 23m 25s\n",
      "INFO:tensorflow:Oracle triggered exit\n",
      "Epoch 1/10\n",
      "93/93 [==============================] - 192s 2s/step - loss: 5.0663 - accuracy: 0.0216\n",
      "Epoch 2/10\n",
      "93/93 [==============================] - 180s 2s/step - loss: 3.8948 - accuracy: 0.0807\n",
      "Epoch 3/10\n",
      "93/93 [==============================] - 180s 2s/step - loss: 2.6727 - accuracy: 0.3171\n",
      "Epoch 4/10\n",
      "93/93 [==============================] - 180s 2s/step - loss: 1.5711 - accuracy: 0.7109\n",
      "Epoch 5/10\n",
      "93/93 [==============================] - 180s 2s/step - loss: 0.7831 - accuracy: 0.9477\n",
      "Epoch 6/10\n",
      "93/93 [==============================] - 179s 2s/step - loss: 0.5639 - accuracy: 0.9791\n",
      "Epoch 7/10\n",
      "93/93 [==============================] - 180s 2s/step - loss: 0.7277 - accuracy: 0.9500\n",
      "Epoch 8/10\n",
      "93/93 [==============================] - 180s 2s/step - loss: 0.7593 - accuracy: 0.9331\n",
      "Epoch 9/10\n",
      "93/93 [==============================] - 179s 2s/step - loss: 0.5266 - accuracy: 0.9693\n",
      "Epoch 10/10\n",
      "93/93 [==============================] - 179s 2s/step - loss: 0.3001 - accuracy: 0.9902\n"
     ]
    },
    {
     "name": "stderr",
     "output_type": "stream",
     "text": [
      "WARNING:absl:Found untraced functions such as _jit_compiled_convolution_op, _update_step_xla, _jit_compiled_convolution_op, _jit_compiled_convolution_op, _jit_compiled_convolution_op while saving (showing 5 of 55). These functions will not be directly callable after loading.\n"
     ]
    },
    {
     "name": "stdout",
     "output_type": "stream",
     "text": [
      "INFO:tensorflow:Assets written to: ./auto_model/best_model/assets\n"
     ]
    },
    {
     "name": "stderr",
     "output_type": "stream",
     "text": [
      "INFO:tensorflow:Assets written to: ./auto_model/best_model/assets\n"
     ]
    },
    {
     "data": {
      "text/plain": [
       "<keras.callbacks.History at 0x7f23c2ffda00>"
      ]
     },
     "execution_count": 5,
     "metadata": {},
     "output_type": "execute_result"
    }
   ],
   "source": [
    "import autokeras as ak\n",
    "input_node = ak.ImageInput()\n",
    "output_node = ak.ImageBlock(\n",
    "    # Only search ResNet architectures.\n",
    "    block_type=\"resnet\",\n",
    "    # Normalize the dataset.\n",
    "    normalize=True,\n",
    "    # Do not do data augmentation.\n",
    "    augment=False,\n",
    ")(input_node)\n",
    "output_node = ak.ClassificationHead()(output_node)\n",
    "clf = ak.AutoModel(\n",
    "    inputs=input_node, outputs=output_node, overwrite=True, max_trials=3\n",
    ")\n",
    "clf.fit(x_train, y_train, epochs=10)\n"
   ]
  },
  {
   "cell_type": "markdown",
   "id": "8bde22e0",
   "metadata": {},
   "source": []
  },
  {
   "cell_type": "code",
   "execution_count": null,
   "id": "acced54f",
   "metadata": {},
   "outputs": [],
   "source": []
  },
  {
   "cell_type": "code",
   "execution_count": null,
   "id": "37a2a586",
   "metadata": {},
   "outputs": [],
   "source": []
  }
 ],
 "metadata": {
  "kernelspec": {
   "display_name": "Python 3 (ipykernel)",
   "language": "python",
   "name": "python3"
  },
  "language_info": {
   "codemirror_mode": {
    "name": "ipython",
    "version": 3
   },
   "file_extension": ".py",
   "mimetype": "text/x-python",
   "name": "python",
   "nbconvert_exporter": "python",
   "pygments_lexer": "ipython3",
   "version": "3.8.0"
  }
 },
 "nbformat": 4,
 "nbformat_minor": 5
}

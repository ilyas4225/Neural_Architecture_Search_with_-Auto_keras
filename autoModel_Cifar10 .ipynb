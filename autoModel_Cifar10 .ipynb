{
 "cells": [
  {
   "cell_type": "markdown",
   "id": "d9418edd",
   "metadata": {},
   "source": [
    "# AutoModel for Cifar100\n",
    "\n",
    "The autokeras library to automatically search for the best neural network architecture for classifying the CIFAR-100 dataset. It first loads the dataset, converts the labels to categorical format, and defines an AutoModel using the autokeras.\n",
    "\n",
    "The AutoModel is initialized with the defined input and output nodes, and fit to the training data using 10 epochs and a maximum of 2 trials. "
   ]
  },
  {
   "cell_type": "code",
   "execution_count": 3,
   "id": "5ca180d4",
   "metadata": {},
   "outputs": [
    {
     "name": "stdout",
     "output_type": "stream",
     "text": [
      "Trial 2 Complete [04h 00m 40s]\n",
      "val_loss: 4.6066203117370605\n",
      "\n",
      "Best val_loss So Far: 3.6320362091064453\n",
      "Total elapsed time: 09h 38m 24s\n",
      "INFO:tensorflow:Oracle triggered exit\n",
      "Epoch 1/10\n",
      "1563/1563 [==============================] - 1862s 1s/step - loss: 4.2761 - accuracy: 0.0363\n",
      "Epoch 2/10\n",
      "1563/1563 [==============================] - 1870s 1s/step - loss: 4.0420 - accuracy: 0.0621\n",
      "Epoch 3/10\n",
      "1563/1563 [==============================] - 1933s 1s/step - loss: 3.9462 - accuracy: 0.0735\n",
      "Epoch 4/10\n",
      "1563/1563 [==============================] - 1825s 1s/step - loss: 3.7879 - accuracy: 0.0947\n",
      "Epoch 5/10\n",
      "1563/1563 [==============================] - 1820s 1s/step - loss: 3.5942 - accuracy: 0.1198\n",
      "Epoch 6/10\n",
      "1563/1563 [==============================] - 1798s 1s/step - loss: 3.4799 - accuracy: 0.1405\n",
      "Epoch 7/10\n",
      "1563/1563 [==============================] - 2939s 2s/step - loss: 3.3326 - accuracy: 0.1657\n",
      "Epoch 8/10\n",
      "1563/1563 [==============================] - 3323s 2s/step - loss: 3.2179 - accuracy: 0.1853\n",
      "Epoch 9/10\n",
      "1563/1563 [==============================] - 3275s 2s/step - loss: 3.1601 - accuracy: 0.1955\n",
      "Epoch 10/10\n",
      "1563/1563 [==============================] - 2506s 2s/step - loss: 3.0183 - accuracy: 0.2211\n"
     ]
    },
    {
     "name": "stderr",
     "output_type": "stream",
     "text": [
      "WARNING:absl:Found untraced functions such as _update_step_xla, _jit_compiled_convolution_op, _jit_compiled_convolution_op, _jit_compiled_convolution_op, _jit_compiled_convolution_op while saving (showing 5 of 54). These functions will not be directly callable after loading.\n"
     ]
    },
    {
     "name": "stdout",
     "output_type": "stream",
     "text": [
      "INFO:tensorflow:Assets written to: ./auto_model/best_model/assets\n"
     ]
    },
    {
     "name": "stderr",
     "output_type": "stream",
     "text": [
      "INFO:tensorflow:Assets written to: ./auto_model/best_model/assets\n"
     ]
    },
    {
     "name": "stdout",
     "output_type": "stream",
     "text": [
      "313/313 [==============================] - 11s 32ms/step - loss: 3.2549 - accuracy: 0.1995\n",
      "Accuracy: 19.95%\n"
     ]
    }
   ],
   "source": [
    "import autokeras as ak\n",
    "import torch\n",
    "from tensorflow.keras.datasets import cifar100\n",
    "from tensorflow.keras.utils import to_categorical\n",
    "device = torch.device(\"cuda:0\" if torch.cuda.is_available() else \"cpu\")\n",
    "# Load the CIFAR-10 dataset\n",
    "(x_train, y_train), (x_test, y_test) = cifar100.load_data()\n",
    "\n",
    "# Convert labels to categorical format\n",
    "y_train = to_categorical(y_train)\n",
    "y_test = to_categorical(y_test)\n",
    "\n",
    "# Define the AutoModel\n",
    "input_node = ak.ImageInput()\n",
    "output_node = ak.ImageBlock()(input_node)\n",
    "output_node = ak.Flatten()(output_node)\n",
    "output_node = ak.DenseBlock()(output_node)\n",
    "output_node = ak.ClassificationHead()(output_node)\n",
    "\n",
    "# Initialize the AutoModel\n",
    "clf = ak.AutoModel(\n",
    "    inputs=input_node,\n",
    "    outputs=output_node,\n",
    "    overwrite=True,\n",
    "    max_trials=2\n",
    ")\n",
    "\n",
    "# Fit the AutoModel to the CIFAR-10 dataset\n",
    "clf.fit(x_train, y_train, epochs=10)\n",
    "\n",
    "# Evaluate the AutoModel on the test data\n",
    "accuracy = clf.evaluate(x_test, y_test)[1]\n",
    "print('Accuracy: {:.2f}%'.format(accuracy * 100))\n"
   ]
  },
  {
   "cell_type": "code",
   "execution_count": null,
   "id": "826d1f9e",
   "metadata": {},
   "outputs": [],
   "source": []
  }
 ],
 "metadata": {
  "kernelspec": {
   "display_name": "Python 3 (ipykernel)",
   "language": "python",
   "name": "python3"
  },
  "language_info": {
   "codemirror_mode": {
    "name": "ipython",
    "version": 3
   },
   "file_extension": ".py",
   "mimetype": "text/x-python",
   "name": "python",
   "nbconvert_exporter": "python",
   "pygments_lexer": "ipython3",
   "version": "3.8.0"
  }
 },
 "nbformat": 4,
 "nbformat_minor": 5
}

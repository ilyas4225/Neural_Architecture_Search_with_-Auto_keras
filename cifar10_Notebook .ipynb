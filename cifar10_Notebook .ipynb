{
 "cells": [
  {
   "cell_type": "markdown",
   "metadata": {},
   "source": [
    "# NAS with image classifier on Cifar10\n",
    "\n",
    "\n",
    "Firstly install the dependencies by executing the following command"
   ]
  },
  {
   "cell_type": "markdown",
   "metadata": {
    "colab": {
     "base_uri": "https://localhost:8080/"
    },
    "id": "X43HEEzdp_Ma",
    "outputId": "f7683408-aec1-43bf-f423-6e1b202b5c93"
   },
   "source": [
    "!pip install autokeras"
   ]
  },
  {
   "cell_type": "markdown",
   "metadata": {},
   "source": [
    "Import the required libraries"
   ]
  },
  {
   "cell_type": "code",
   "execution_count": 3,
   "metadata": {
    "id": "vVUECJFy0wJh"
   },
   "outputs": [],
   "source": [
    "import numpy as np\n",
    "import tensorflow as tf\n",
    "#from tensorflow.keras.datasets import mnist\n",
    "import tensorflow_datasets as tfds\n",
    "import autokeras as ak"
   ]
  },
  {
   "cell_type": "markdown",
   "metadata": {},
   "source": [
    "Here we loads the CIFAR-10 dataset using the TensorFlow Keras API. "
   ]
  },
  {
   "cell_type": "code",
   "execution_count": 4,
   "metadata": {
    "colab": {
     "base_uri": "https://localhost:8080/"
    },
    "id": "YpjZ4Bs90v-R",
    "outputId": "fb933c9d-2f19-40ed-cffb-aba33f1588f8"
   },
   "outputs": [
    {
     "name": "stdout",
     "output_type": "stream",
     "text": [
      "Downloading data from https://www.cs.toronto.edu/~kriz/cifar-10-python.tar.gz\n",
      "170498071/170498071 [==============================] - 30s 0us/step\n"
     ]
    }
   ],
   "source": [
    "(x_train, y_train), (x_test, y_test) = tf.keras.datasets.cifar10.load_data()"
   ]
  },
  {
   "cell_type": "markdown",
   "metadata": {},
   "source": [
    "Now trains an image classification model using the AutoKeras library and evaluates it on the test set.\n",
    "    First, an instance of the ImageClassifier class from AutoKeras is initialized with overwrite=True to allow the model to be retrained if necessary, and max_trials=1 to limit the number of different models that AutoKeras will train."
   ]
  },
  {
   "cell_type": "code",
   "execution_count": 5,
   "metadata": {
    "colab": {
     "base_uri": "https://localhost:8080/"
    },
    "id": "xcqeaZ9T0vsF",
    "outputId": "531b216a-0bfd-40b7-d678-cb2549d4dc6b"
   },
   "outputs": [
    {
     "name": "stdout",
     "output_type": "stream",
     "text": [
      "Trial 1 Complete [00h 01m 33s]\n",
      "val_loss: 0.8864099383354187\n",
      "\n",
      "Best val_loss So Far: 0.8864099383354187\n",
      "Total elapsed time: 00h 01m 33s\n",
      "Epoch 1/10\n",
      "1563/1563 [==============================] - 9s 5ms/step - loss: 1.3394 - accuracy: 0.5269\n",
      "Epoch 2/10\n",
      "1563/1563 [==============================] - 8s 5ms/step - loss: 1.0583 - accuracy: 0.6318\n",
      "Epoch 3/10\n",
      "1563/1563 [==============================] - 8s 5ms/step - loss: 0.9664 - accuracy: 0.6637\n",
      "Epoch 4/10\n",
      "1563/1563 [==============================] - 8s 5ms/step - loss: 0.9066 - accuracy: 0.6845\n",
      "Epoch 5/10\n",
      "1563/1563 [==============================] - 8s 5ms/step - loss: 0.8691 - accuracy: 0.6957\n",
      "Epoch 6/10\n",
      "1563/1563 [==============================] - 8s 5ms/step - loss: 0.8351 - accuracy: 0.7067\n",
      "Epoch 7/10\n",
      "1563/1563 [==============================] - 8s 5ms/step - loss: 0.8041 - accuracy: 0.7192\n",
      "Epoch 8/10\n",
      "1563/1563 [==============================] - 8s 5ms/step - loss: 0.7898 - accuracy: 0.7261\n",
      "Epoch 9/10\n",
      "1563/1563 [==============================] - 8s 5ms/step - loss: 0.7695 - accuracy: 0.7334\n",
      "Epoch 10/10\n",
      "1563/1563 [==============================] - 8s 5ms/step - loss: 0.7545 - accuracy: 0.7359\n"
     ]
    },
    {
     "name": "stderr",
     "output_type": "stream",
     "text": [
      "WARNING:absl:Found untraced functions such as _jit_compiled_convolution_op, _jit_compiled_convolution_op while saving (showing 2 of 2). These functions will not be directly callable after loading.\n"
     ]
    },
    {
     "name": "stdout",
     "output_type": "stream",
     "text": [
      "313/313 [==============================] - 1s 2ms/step\n",
      "313/313 [==============================] - 1s 2ms/step\n",
      "[['3']\n",
      " ['8']\n",
      " ['0']\n",
      " ...\n",
      " ['3']\n",
      " ['4']\n",
      " ['7']]\n",
      "313/313 [==============================] - 1s 3ms/step - loss: 0.8614 - accuracy: 0.7096\n",
      "[0.8613971471786499, 0.7095999717712402]\n"
     ]
    }
   ],
   "source": [
    "# Initialize the image classifier.\n",
    "clf = ak.ImageClassifier(overwrite=True, max_trials=1)\n",
    "# Feed the image classifier with training data.\n",
    "clf.fit(x_train, y_train, epochs=10)\n",
    "\n",
    "\n",
    "# Predict with the best model.\n",
    "predicted_y = clf.predict(x_test)\n",
    "print(predicted_y)\n",
    "\n",
    "\n",
    "# Evaluate the best model with testing data.\n",
    "print(clf.evaluate(x_test, y_test))\n"
   ]
  },
  {
   "cell_type": "markdown",
   "metadata": {},
   "source": [
    "# Customized Search Space\n",
    "Here use AutoKeras (ak) to create an Image Classification model with a customized search space. setting the block_type argument to \"resnet\" specifies that only ResNet architectures will be considered during the architecture search process.After that A ClassificationHead is added to the output node to perform the classification task.\n",
    "AutoKeras will search for the best model architecture and hyperparameters based on the training data provided.\n"
   ]
  },
  {
   "cell_type": "code",
   "execution_count": 6,
   "metadata": {
    "colab": {
     "base_uri": "https://localhost:8080/"
    },
    "id": "sCKc8nF82md8",
    "outputId": "409cd0b1-ad15-4fc0-8fa3-770ce1c6fc3b"
   },
   "outputs": [
    {
     "name": "stdout",
     "output_type": "stream",
     "text": [
      "Trial 1 Complete [01h 00m 31s]\n",
      "val_loss: 2.3249871730804443\n",
      "\n",
      "Best val_loss So Far: 2.3249871730804443\n",
      "Total elapsed time: 01h 00m 31s\n",
      "Epoch 1/10\n",
      "1563/1563 [==============================] - 419s 251ms/step - loss: 6.7424 - accuracy: 0.0993\n",
      "Epoch 2/10\n",
      "1563/1563 [==============================] - 389s 249ms/step - loss: 2.3148 - accuracy: 0.0994\n",
      "Epoch 3/10\n",
      "1563/1563 [==============================] - 389s 249ms/step - loss: 2.3148 - accuracy: 0.0994\n",
      "Epoch 4/10\n",
      "1563/1563 [==============================] - 389s 249ms/step - loss: 2.3148 - accuracy: 0.0993\n",
      "Epoch 5/10\n",
      "1563/1563 [==============================] - 389s 249ms/step - loss: 2.3148 - accuracy: 0.0993\n",
      "Epoch 6/10\n",
      "1563/1563 [==============================] - 389s 249ms/step - loss: 2.3148 - accuracy: 0.0993\n",
      "Epoch 7/10\n",
      "1563/1563 [==============================] - 389s 249ms/step - loss: 2.3148 - accuracy: 0.0993\n",
      "Epoch 8/10\n",
      "1563/1563 [==============================] - 389s 249ms/step - loss: 2.3148 - accuracy: 0.0993\n",
      "Epoch 9/10\n",
      "1563/1563 [==============================] - 389s 249ms/step - loss: 2.3148 - accuracy: 0.0993\n",
      "Epoch 10/10\n",
      "1563/1563 [==============================] - 389s 249ms/step - loss: 2.3148 - accuracy: 0.0993\n"
     ]
    },
    {
     "name": "stderr",
     "output_type": "stream",
     "text": [
      "WARNING:absl:Found untraced functions such as _jit_compiled_convolution_op, _jit_compiled_convolution_op, _jit_compiled_convolution_op, _jit_compiled_convolution_op, _jit_compiled_convolution_op while saving (showing 5 of 53). These functions will not be directly callable after loading.\n"
     ]
    },
    {
     "data": {
      "text/plain": [
       "<keras.callbacks.History at 0x7fb1385dea60>"
      ]
     },
     "execution_count": 6,
     "metadata": {},
     "output_type": "execute_result"
    }
   ],
   "source": [
    "input_node = ak.ImageInput()\n",
    "output_node = ak.ImageBlock(\n",
    "    # Only search ResNet architectures.\n",
    "    block_type=\"resnet\",\n",
    "    # Normalize the dataset.\n",
    "    normalize=True,\n",
    "    # Do not do data augmentation.\n",
    "    augment=False,\n",
    ")(input_node)\n",
    "output_node = ak.ClassificationHead()(output_node)\n",
    "clf = ak.AutoModel(\n",
    "    inputs=input_node, outputs=output_node, overwrite=True, max_trials=1\n",
    ")\n",
    "clf.fit(x_train, y_train, epochs=10)\n"
   ]
  },
  {
   "cell_type": "markdown",
   "metadata": {},
   "source": [
    "Here by using AutoKeras to create an Image Classification model, but with a slightly different custom search space like The ResNetBlock layer is added to the output node. In this case, the version argument is set to \"v2\", which specifies the version of the ResNet architecture to use.\n",
    "An AutoModel is created using the input and output nodes. The overwrite argument is set to True, which means that if there is an existing model with the same name, it will be overwritten. The max_trials argument is set to 2, which means that AutoKeras will run two trials to find the best model architecture."
   ]
  },
  {
   "cell_type": "code",
   "execution_count": 6,
   "metadata": {
    "colab": {
     "base_uri": "https://localhost:8080/"
    },
    "id": "o4G5szVH0BIU",
    "outputId": "ac8eb648-64c0-4d36-b90d-0a8263f9b1d5"
   },
   "outputs": [
    {
     "name": "stdout",
     "output_type": "stream",
     "text": [
      "Trial 2 Complete [00h 11m 02s]\n",
      "val_loss: 1.5490269660949707\n",
      "\n",
      "Best val_loss So Far: 1.5490269660949707\n",
      "Total elapsed time: 00h 23m 45s\n",
      "Epoch 1/10\n",
      "1563/1563 [==============================] - 71s 39ms/step - loss: 2.1652 - accuracy: 0.2246\n",
      "Epoch 2/10\n",
      "1563/1563 [==============================] - 63s 40ms/step - loss: 1.8358 - accuracy: 0.3375\n",
      "Epoch 3/10\n",
      "1563/1563 [==============================] - 62s 39ms/step - loss: 1.6673 - accuracy: 0.3949\n",
      "Epoch 4/10\n",
      "1563/1563 [==============================] - 62s 40ms/step - loss: 1.5398 - accuracy: 0.4416\n",
      "Epoch 5/10\n",
      "1563/1563 [==============================] - 63s 40ms/step - loss: 1.3922 - accuracy: 0.5009\n",
      "Epoch 6/10\n",
      "1563/1563 [==============================] - 62s 40ms/step - loss: 1.2110 - accuracy: 0.5751\n",
      "Epoch 7/10\n",
      "1563/1563 [==============================] - 62s 39ms/step - loss: 1.0046 - accuracy: 0.6611\n",
      "Epoch 8/10\n",
      "1563/1563 [==============================] - 62s 39ms/step - loss: 0.7691 - accuracy: 0.7625\n",
      "Epoch 9/10\n",
      "1563/1563 [==============================] - 62s 40ms/step - loss: 0.5185 - accuracy: 0.8668\n",
      "Epoch 10/10\n",
      "1563/1563 [==============================] - 62s 39ms/step - loss: 0.2780 - accuracy: 0.9549\n"
     ]
    },
    {
     "name": "stderr",
     "output_type": "stream",
     "text": [
      "WARNING:absl:Found untraced functions such as _jit_compiled_convolution_op, _jit_compiled_convolution_op, _jit_compiled_convolution_op, _jit_compiled_convolution_op, _jit_compiled_convolution_op while saving (showing 5 of 53). These functions will not be directly callable after loading.\n"
     ]
    },
    {
     "data": {
      "text/plain": [
       "<keras.callbacks.History at 0x7f913c4bddc0>"
      ]
     },
     "execution_count": 6,
     "metadata": {},
     "output_type": "execute_result"
    }
   ],
   "source": [
    "input_node = ak.ImageInput()\n",
    "output_node = ak.Normalization()(input_node)\n",
    "output_node = ak.ImageAugmentation(horizontal_flip=False)(output_node)\n",
    "output_node = ak.ResNetBlock(version=\"v2\")(output_node)\n",
    "output_node = ak.ClassificationHead()(output_node)\n",
    "clf = ak.AutoModel(\n",
    "    inputs=input_node, outputs=output_node, overwrite=True, max_trials=2\n",
    ")\n",
    "clf.fit(x_train, y_train, epochs=10)"
   ]
  },
  {
   "cell_type": "code",
   "execution_count": 7,
   "metadata": {
    "colab": {
     "base_uri": "https://localhost:8080/"
    },
    "id": "_M1zA6sFpvKR",
    "outputId": "836a4bd7-dffe-4632-9151-7843e8df8781"
   },
   "outputs": [
    {
     "name": "stdout",
     "output_type": "stream",
     "text": [
      "Trial 1 Complete [00h 13m 58s]\n",
      "val_loss: 1.2210843563079834\n",
      "\n",
      "Best val_loss So Far: 1.2210843563079834\n",
      "Total elapsed time: 00h 13m 58s\n",
      "Epoch 1/10\n",
      "1563/1563 [==============================] - 110s 51ms/step - loss: 2.1473 - accuracy: 0.3168 - val_loss: 9.3872 - val_accuracy: 0.3801\n",
      "Epoch 2/10\n",
      "1563/1563 [==============================] - 78s 50ms/step - loss: 2.1181 - accuracy: 0.3396 - val_loss: 272.2827 - val_accuracy: 0.1732\n",
      "Epoch 3/10\n",
      "1563/1563 [==============================] - 77s 50ms/step - loss: 2.1170 - accuracy: 0.3232 - val_loss: 2.1868 - val_accuracy: 0.2164\n",
      "Epoch 4/10\n",
      "1563/1563 [==============================] - 78s 50ms/step - loss: 1.8794 - accuracy: 0.3572 - val_loss: 1.6193 - val_accuracy: 0.4526\n",
      "Epoch 5/10\n",
      "1563/1563 [==============================] - 77s 50ms/step - loss: 1.6035 - accuracy: 0.4465 - val_loss: 1.4571 - val_accuracy: 0.4716\n",
      "Epoch 6/10\n",
      "1563/1563 [==============================] - 78s 50ms/step - loss: 1.4598 - accuracy: 0.5023 - val_loss: 1.3909 - val_accuracy: 0.5260\n",
      "Epoch 7/10\n",
      "1563/1563 [==============================] - 80s 51ms/step - loss: 1.3343 - accuracy: 0.5459 - val_loss: 2.0468 - val_accuracy: 0.5470\n",
      "Epoch 8/10\n",
      "1563/1563 [==============================] - 78s 50ms/step - loss: 1.2025 - accuracy: 0.5983 - val_loss: 1.4450 - val_accuracy: 0.5587\n",
      "Epoch 9/10\n",
      "1563/1563 [==============================] - 78s 50ms/step - loss: 1.1922 - accuracy: 0.5988 - val_loss: 1.1889 - val_accuracy: 0.6015\n",
      "Epoch 10/10\n",
      "1563/1563 [==============================] - 78s 50ms/step - loss: 1.0652 - accuracy: 0.6429 - val_loss: 1.1586 - val_accuracy: 0.6064\n"
     ]
    },
    {
     "name": "stderr",
     "output_type": "stream",
     "text": [
      "WARNING:absl:Found untraced functions such as _jit_compiled_convolution_op, _jit_compiled_convolution_op, _jit_compiled_convolution_op, _jit_compiled_convolution_op, _jit_compiled_convolution_op while saving (showing 5 of 53). These functions will not be directly callable after loading.\n"
     ]
    },
    {
     "name": "stdout",
     "output_type": "stream",
     "text": [
      "313/313 [==============================] - 6s 14ms/step - loss: 1.1586 - accuracy: 0.6064\n",
      "Test accuracy: 0.6064000129699707\n"
     ]
    }
   ],
   "source": [
    "import tensorflow as tf\n",
    "import tensorflow_datasets as tfds\n",
    "import autokeras as ak\n",
    "\n",
    "# Load CIFAR-10 dataset\n",
    "(x_train, y_train), (x_test, y_test) = tf.keras.datasets.cifar10.load_data()\n",
    "\n",
    "# Normalize pixel values to be between 0 and 1\n",
    "x_train = x_train.astype('float32') / 255.0\n",
    "x_test = x_test.astype('float32') / 255.0\n",
    "\n",
    "# Convert labels to categorical one-hot encoding\n",
    "y_train = tf.keras.utils.to_categorical(y_train, num_classes=10)\n",
    "y_test = tf.keras.utils.to_categorical(y_test, num_classes=10)\n",
    "\n",
    "# Define AutoKeras model\n",
    "input_node = ak.ImageInput()\n",
    "output_node = ak.ImageBlock(\n",
    "    # Only search ResNet architectures.\n",
    "    block_type=\"resnet\",\n",
    "    # Normalize the dataset.\n",
    "    normalize=True,\n",
    "    # Do not do data augmentation.\n",
    "    augment=False,\n",
    ")(input_node)\n",
    "output_node = ak.ClassificationHead()(output_node)\n",
    "clf = ak.AutoModel(\n",
    "    inputs=input_node, outputs=output_node, overwrite=True, max_trials=1\n",
    ")\n",
    "\n",
    "# Train AutoKeras model on CIFAR-10\n",
    "clf.fit(x_train, y_train, epochs=10, validation_data=(x_test, y_test))\n",
    "\n",
    "# Evaluate AutoKeras model on test data\n",
    "score = clf.evaluate(x_test, y_test)\n",
    "print('Test accuracy:', score[1])\n"
   ]
  },
  {
   "cell_type": "markdown",
   "metadata": {},
   "source": [
    "# Auto model\n",
    "Here use AutoKeras to build an image classification model for the CIFAR-10 dataset\n",
    "Define an AutoModel using the AutoKeras API. The model consists of an image input, an image block, a flatten layer, a dense block, and a classification head.\n",
    "\n",
    "The max_trials parameter of the AutoModel constructor is set to 2, which means that AutoKeras will try two different model architectures before returning the best one. "
   ]
  },
  {
   "cell_type": "code",
   "execution_count": 8,
   "metadata": {},
   "outputs": [
    {
     "name": "stdout",
     "output_type": "stream",
     "text": [
      "Trial 2 Complete [00h 12m 02s]\n",
      "val_loss: 0.9828464984893799\n",
      "\n",
      "Best val_loss So Far: 0.9828464984893799\n",
      "Total elapsed time: 00h 22m 55s\n",
      "INFO:tensorflow:Oracle triggered exit\n",
      "Epoch 1/10\n",
      "1563/1563 [==============================] - 86s 54ms/step - loss: 1.7546 - accuracy: 0.3557\n",
      "Epoch 2/10\n",
      "1563/1563 [==============================] - 77s 49ms/step - loss: 1.3282 - accuracy: 0.5233\n",
      "Epoch 3/10\n",
      "1563/1563 [==============================] - 77s 49ms/step - loss: 1.1634 - accuracy: 0.5883\n",
      "Epoch 4/10\n",
      "1563/1563 [==============================] - 78s 50ms/step - loss: 1.0757 - accuracy: 0.6203\n",
      "Epoch 5/10\n",
      "1563/1563 [==============================] - 78s 50ms/step - loss: 1.0078 - accuracy: 0.6438\n",
      "Epoch 6/10\n",
      "1563/1563 [==============================] - 77s 49ms/step - loss: 0.9644 - accuracy: 0.6616\n",
      "Epoch 7/10\n",
      "1563/1563 [==============================] - 77s 50ms/step - loss: 0.9225 - accuracy: 0.6756\n",
      "Epoch 8/10\n",
      "1563/1563 [==============================] - 77s 49ms/step - loss: 0.8880 - accuracy: 0.6869\n",
      "Epoch 9/10\n",
      "1563/1563 [==============================] - 78s 50ms/step - loss: 0.8585 - accuracy: 0.6979\n",
      "Epoch 10/10\n",
      "1563/1563 [==============================] - 77s 49ms/step - loss: 0.8364 - accuracy: 0.7053\n"
     ]
    },
    {
     "name": "stderr",
     "output_type": "stream",
     "text": [
      "WARNING:absl:Found untraced functions such as _jit_compiled_convolution_op, _jit_compiled_convolution_op, _jit_compiled_convolution_op, _jit_compiled_convolution_op, _jit_compiled_convolution_op while saving (showing 5 of 7). These functions will not be directly callable after loading.\n"
     ]
    },
    {
     "name": "stdout",
     "output_type": "stream",
     "text": [
      "INFO:tensorflow:Assets written to: ./auto_model/best_model/assets\n"
     ]
    },
    {
     "name": "stderr",
     "output_type": "stream",
     "text": [
      "INFO:tensorflow:Assets written to: ./auto_model/best_model/assets\n"
     ]
    },
    {
     "name": "stdout",
     "output_type": "stream",
     "text": [
      "313/313 [==============================] - 3s 9ms/step - loss: 1.0022 - accuracy: 0.6558\n",
      "Accuracy: 65.58%\n"
     ]
    }
   ],
   "source": [
    "import autokeras as ak\n",
    "import torch\n",
    "from tensorflow.keras.datasets import cifar10\n",
    "from tensorflow.keras.utils import to_categorical\n",
    "device = torch.device(\"cuda:0\" if torch.cuda.is_available() else \"cpu\")\n",
    "# Load the CIFAR-10 dataset\n",
    "(x_train, y_train), (x_test, y_test) = cifar10.load_data()\n",
    "\n",
    "# Convert labels to categorical format\n",
    "y_train = to_categorical(y_train)\n",
    "y_test = to_categorical(y_test)\n",
    "\n",
    "# Define the AutoModel\n",
    "input_node = ak.ImageInput()\n",
    "output_node = ak.ImageBlock()(input_node)\n",
    "output_node = ak.Flatten()(output_node)\n",
    "output_node = ak.DenseBlock()(output_node)\n",
    "output_node = ak.ClassificationHead()(output_node)\n",
    "\n",
    "# Initialize the AutoModel\n",
    "clf = ak.AutoModel(\n",
    "    inputs=input_node,\n",
    "    outputs=output_node,\n",
    "    overwrite=True,\n",
    "    max_trials=2\n",
    ")\n",
    "\n",
    "# Fit the AutoModel to the CIFAR-10 dataset\n",
    "clf.fit(x_train, y_train, epochs=10)\n",
    "\n",
    "# Evaluate the AutoModel on the test data\n",
    "accuracy = clf.evaluate(x_test, y_test)[1]\n",
    "print('Accuracy: {:.2f}%'.format(accuracy * 100))\n"
   ]
  },
  {
   "cell_type": "code",
   "execution_count": null,
   "metadata": {},
   "outputs": [],
   "source": [
    "\n"
   ]
  }
 ],
 "metadata": {
  "accelerator": "GPU",
  "colab": {
   "provenance": []
  },
  "gpuClass": "standard",
  "kernelspec": {
   "display_name": "Python 3 (ipykernel)",
   "language": "python",
   "name": "python3"
  },
  "language_info": {
   "codemirror_mode": {
    "name": "ipython",
    "version": 3
   },
   "file_extension": ".py",
   "mimetype": "text/x-python",
   "name": "python",
   "nbconvert_exporter": "python",
   "pygments_lexer": "ipython3",
   "version": "3.8.0"
  }
 },
 "nbformat": 4,
 "nbformat_minor": 1
}
